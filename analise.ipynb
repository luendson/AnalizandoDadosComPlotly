{
 "cells": [
  {
   "cell_type": "markdown",
   "metadata": {},
   "source": []
  },
  {
   "cell_type": "markdown",
   "metadata": {},
   "source": [
    "# Python Insights - Analisando Dados com Python\n",
    "\n",
    "### Case - Cancelamento de Clientes\n",
    "\n",
    "Você foi contratado por uma empresa com mais de 800 mil clientes para um projeto de Dados. Recentemente a empresa percebeu que da sua base total de clientes, a maioria são clientes inativos, ou seja, que já cancelaram o serviço.\n",
    "\n",
    "Precisando melhorar seus resultados ela quer conseguir entender os principais motivos desses cancelamentos e quais as ações mais eficientes para reduzir esse número.\n",
    "\n",
    "Base de dados e arquivos: https://drive.google.com/drive/folders/1uDesZePdkhiraJmiyeZ-w5tfc8XsNYFZ?usp=drive_link"
   ]
  },
  {
   "cell_type": "code",
   "execution_count": 11,
   "metadata": {},
   "outputs": [
    {
     "name": "stdout",
     "output_type": "stream",
     "text": [
      "<class 'pandas.core.frame.DataFrame'>\n",
      "RangeIndex: 881666 entries, 0 to 881665\n",
      "Data columns (total 11 columns):\n",
      " #   Column                  Non-Null Count   Dtype  \n",
      "---  ------                  --------------   -----  \n",
      " 0   idade                   881664 non-null  float64\n",
      " 1   sexo                    881664 non-null  object \n",
      " 2   tempo_como_cliente      881663 non-null  float64\n",
      " 3   frequencia_uso          881663 non-null  float64\n",
      " 4   ligacoes_callcenter     881664 non-null  float64\n",
      " 5   dias_atraso             881664 non-null  float64\n",
      " 6   assinatura              881661 non-null  object \n",
      " 7   duracao_contrato        881663 non-null  object \n",
      " 8   total_gasto             881664 non-null  float64\n",
      " 9   meses_ultima_interacao  881664 non-null  float64\n",
      " 10  cancelou                881664 non-null  float64\n",
      "dtypes: float64(8), object(3)\n",
      "memory usage: 74.0+ MB\n"
     ]
    },
    {
     "data": {
      "text/plain": [
       "None"
      ]
     },
     "metadata": {},
     "output_type": "display_data"
    }
   ],
   "source": [
    "#inporta passe de dados \n",
    "import pandas # type: ignore\n",
    "\n",
    "tabela = pandas.read_csv(\"cancelamentos.csv\")\n",
    "\n",
    "tabela =  tabela.drop(columns=\"CustomerID\") #delete CustomerID\n",
    "\n",
    "#display(tabela)\n",
    "\n",
    "display(tabela.info())"
   ]
  },
  {
   "cell_type": "code",
   "execution_count": 12,
   "metadata": {},
   "outputs": [
    {
     "name": "stdout",
     "output_type": "stream",
     "text": [
      "<class 'pandas.core.frame.DataFrame'>\n",
      "Index: 881659 entries, 0 to 881665\n",
      "Data columns (total 11 columns):\n",
      " #   Column                  Non-Null Count   Dtype  \n",
      "---  ------                  --------------   -----  \n",
      " 0   idade                   881659 non-null  float64\n",
      " 1   sexo                    881659 non-null  object \n",
      " 2   tempo_como_cliente      881659 non-null  float64\n",
      " 3   frequencia_uso          881659 non-null  float64\n",
      " 4   ligacoes_callcenter     881659 non-null  float64\n",
      " 5   dias_atraso             881659 non-null  float64\n",
      " 6   assinatura              881659 non-null  object \n",
      " 7   duracao_contrato        881659 non-null  object \n",
      " 8   total_gasto             881659 non-null  float64\n",
      " 9   meses_ultima_interacao  881659 non-null  float64\n",
      " 10  cancelou                881659 non-null  float64\n",
      "dtypes: float64(8), object(3)\n",
      "memory usage: 80.7+ MB\n"
     ]
    },
    {
     "data": {
      "text/plain": [
       "None"
      ]
     },
     "metadata": {},
     "output_type": "display_data"
    }
   ],
   "source": [
    "tabela = tabela.dropna()#escluir valores que estao faltando\n",
    "display(tabela.info())"
   ]
  },
  {
   "cell_type": "code",
   "execution_count": 16,
   "metadata": {},
   "outputs": [
    {
     "data": {
      "text/plain": [
       "cancelou\n",
       "1.0    0.567105\n",
       "0.0    0.432895\n",
       "Name: proportion, dtype: float64"
      ]
     },
     "metadata": {},
     "output_type": "display_data"
    }
   ],
   "source": [
    "#analise \n",
    "\n",
    "# display(tabela[\"cancelou\"].value_counts())\n",
    "\n",
    "display(tabela[\"cancelou\"].value_counts(normalize=True))"
   ]
  },
  {
   "cell_type": "code",
   "execution_count": null,
   "metadata": {},
   "outputs": [],
   "source": [
    "#analizar com grafico\n",
    "import plotly.express as px\n",
    "\n",
    "# coluna = \"duracao_contrato\"\n",
    "\n",
    "for coluna in tabela.columns:\n",
    "    grafico = px.histogram(tabela, x=coluna ,color=\"cancelou\",text_auto=\"Truel\") #criaçao do grafico\n",
    "    grafico.show()\n"
   ]
  }
 ],
 "metadata": {
  "kernelspec": {
   "display_name": "base",
   "language": "python",
   "name": "python3"
  },
  "language_info": {
   "codemirror_mode": {
    "name": "ipython",
    "version": 3
   },
   "file_extension": ".py",
   "mimetype": "text/x-python",
   "name": "python",
   "nbconvert_exporter": "python",
   "pygments_lexer": "ipython3",
   "version": "3.12.2"
  },
  "orig_nbformat": 4
 },
 "nbformat": 4,
 "nbformat_minor": 2
}
